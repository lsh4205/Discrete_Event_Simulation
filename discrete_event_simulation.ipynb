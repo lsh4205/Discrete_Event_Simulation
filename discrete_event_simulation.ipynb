{
  "nbformat": 4,
  "nbformat_minor": 0,
  "metadata": {
    "colab": {
      "provenance": [],
      "authorship_tag": "ABX9TyP5pga4QSPyL/IkVkGcFmhX",
      "include_colab_link": true
    },
    "kernelspec": {
      "name": "python3",
      "display_name": "Python 3"
    },
    "language_info": {
      "name": "python"
    }
  },
  "cells": [
    {
      "cell_type": "markdown",
      "metadata": {
        "id": "view-in-github",
        "colab_type": "text"
      },
      "source": [
        "<a href=\"https://colab.research.google.com/github/lsh4205/Discrete_Event_Simulation/blob/main/discrete_event_simulation.ipynb\" target=\"_parent\"><img src=\"https://colab.research.google.com/assets/colab-badge.svg\" alt=\"Open In Colab\"/></a>"
      ]
    },
    {
      "cell_type": "markdown",
      "source": [
        "#1. Load Data"
      ],
      "metadata": {
        "id": "rfLFb-UcyC6M"
      }
    },
    {
      "cell_type": "code",
      "source": [
        "from google.colab import files\n",
        "import pandas as pd"
      ],
      "metadata": {
        "id": "-XFzFbkiyiEG"
      },
      "execution_count": 19,
      "outputs": []
    },
    {
      "cell_type": "markdown",
      "source": [
        "##A) Load *trip_stats.csv*"
      ],
      "metadata": {
        "id": "Q07INuEDyJ5E"
      }
    },
    {
      "cell_type": "code",
      "source": [
        "# trip_stats.csv - Use for q_i,j\n",
        "trip_stats = files.upload()"
      ],
      "metadata": {
        "colab": {
          "base_uri": "https://localhost:8080/",
          "height": 74
        },
        "id": "vzoDAOl9yJmU",
        "outputId": "8225778f-a969-4d80-98a9-edd67aa5a74f"
      },
      "execution_count": 5,
      "outputs": [
        {
          "output_type": "display_data",
          "data": {
            "text/plain": [
              "<IPython.core.display.HTML object>"
            ],
            "text/html": [
              "\n",
              "     <input type=\"file\" id=\"files-3fd40739-0f57-4dff-9da7-574d179b5a04\" name=\"files[]\" multiple disabled\n",
              "        style=\"border:none\" />\n",
              "     <output id=\"result-3fd40739-0f57-4dff-9da7-574d179b5a04\">\n",
              "      Upload widget is only available when the cell has been executed in the\n",
              "      current browser session. Please rerun this cell to enable.\n",
              "      </output>\n",
              "      <script>// Copyright 2017 Google LLC\n",
              "//\n",
              "// Licensed under the Apache License, Version 2.0 (the \"License\");\n",
              "// you may not use this file except in compliance with the License.\n",
              "// You may obtain a copy of the License at\n",
              "//\n",
              "//      http://www.apache.org/licenses/LICENSE-2.0\n",
              "//\n",
              "// Unless required by applicable law or agreed to in writing, software\n",
              "// distributed under the License is distributed on an \"AS IS\" BASIS,\n",
              "// WITHOUT WARRANTIES OR CONDITIONS OF ANY KIND, either express or implied.\n",
              "// See the License for the specific language governing permissions and\n",
              "// limitations under the License.\n",
              "\n",
              "/**\n",
              " * @fileoverview Helpers for google.colab Python module.\n",
              " */\n",
              "(function(scope) {\n",
              "function span(text, styleAttributes = {}) {\n",
              "  const element = document.createElement('span');\n",
              "  element.textContent = text;\n",
              "  for (const key of Object.keys(styleAttributes)) {\n",
              "    element.style[key] = styleAttributes[key];\n",
              "  }\n",
              "  return element;\n",
              "}\n",
              "\n",
              "// Max number of bytes which will be uploaded at a time.\n",
              "const MAX_PAYLOAD_SIZE = 100 * 1024;\n",
              "\n",
              "function _uploadFiles(inputId, outputId) {\n",
              "  const steps = uploadFilesStep(inputId, outputId);\n",
              "  const outputElement = document.getElementById(outputId);\n",
              "  // Cache steps on the outputElement to make it available for the next call\n",
              "  // to uploadFilesContinue from Python.\n",
              "  outputElement.steps = steps;\n",
              "\n",
              "  return _uploadFilesContinue(outputId);\n",
              "}\n",
              "\n",
              "// This is roughly an async generator (not supported in the browser yet),\n",
              "// where there are multiple asynchronous steps and the Python side is going\n",
              "// to poll for completion of each step.\n",
              "// This uses a Promise to block the python side on completion of each step,\n",
              "// then passes the result of the previous step as the input to the next step.\n",
              "function _uploadFilesContinue(outputId) {\n",
              "  const outputElement = document.getElementById(outputId);\n",
              "  const steps = outputElement.steps;\n",
              "\n",
              "  const next = steps.next(outputElement.lastPromiseValue);\n",
              "  return Promise.resolve(next.value.promise).then((value) => {\n",
              "    // Cache the last promise value to make it available to the next\n",
              "    // step of the generator.\n",
              "    outputElement.lastPromiseValue = value;\n",
              "    return next.value.response;\n",
              "  });\n",
              "}\n",
              "\n",
              "/**\n",
              " * Generator function which is called between each async step of the upload\n",
              " * process.\n",
              " * @param {string} inputId Element ID of the input file picker element.\n",
              " * @param {string} outputId Element ID of the output display.\n",
              " * @return {!Iterable<!Object>} Iterable of next steps.\n",
              " */\n",
              "function* uploadFilesStep(inputId, outputId) {\n",
              "  const inputElement = document.getElementById(inputId);\n",
              "  inputElement.disabled = false;\n",
              "\n",
              "  const outputElement = document.getElementById(outputId);\n",
              "  outputElement.innerHTML = '';\n",
              "\n",
              "  const pickedPromise = new Promise((resolve) => {\n",
              "    inputElement.addEventListener('change', (e) => {\n",
              "      resolve(e.target.files);\n",
              "    });\n",
              "  });\n",
              "\n",
              "  const cancel = document.createElement('button');\n",
              "  inputElement.parentElement.appendChild(cancel);\n",
              "  cancel.textContent = 'Cancel upload';\n",
              "  const cancelPromise = new Promise((resolve) => {\n",
              "    cancel.onclick = () => {\n",
              "      resolve(null);\n",
              "    };\n",
              "  });\n",
              "\n",
              "  // Wait for the user to pick the files.\n",
              "  const files = yield {\n",
              "    promise: Promise.race([pickedPromise, cancelPromise]),\n",
              "    response: {\n",
              "      action: 'starting',\n",
              "    }\n",
              "  };\n",
              "\n",
              "  cancel.remove();\n",
              "\n",
              "  // Disable the input element since further picks are not allowed.\n",
              "  inputElement.disabled = true;\n",
              "\n",
              "  if (!files) {\n",
              "    return {\n",
              "      response: {\n",
              "        action: 'complete',\n",
              "      }\n",
              "    };\n",
              "  }\n",
              "\n",
              "  for (const file of files) {\n",
              "    const li = document.createElement('li');\n",
              "    li.append(span(file.name, {fontWeight: 'bold'}));\n",
              "    li.append(span(\n",
              "        `(${file.type || 'n/a'}) - ${file.size} bytes, ` +\n",
              "        `last modified: ${\n",
              "            file.lastModifiedDate ? file.lastModifiedDate.toLocaleDateString() :\n",
              "                                    'n/a'} - `));\n",
              "    const percent = span('0% done');\n",
              "    li.appendChild(percent);\n",
              "\n",
              "    outputElement.appendChild(li);\n",
              "\n",
              "    const fileDataPromise = new Promise((resolve) => {\n",
              "      const reader = new FileReader();\n",
              "      reader.onload = (e) => {\n",
              "        resolve(e.target.result);\n",
              "      };\n",
              "      reader.readAsArrayBuffer(file);\n",
              "    });\n",
              "    // Wait for the data to be ready.\n",
              "    let fileData = yield {\n",
              "      promise: fileDataPromise,\n",
              "      response: {\n",
              "        action: 'continue',\n",
              "      }\n",
              "    };\n",
              "\n",
              "    // Use a chunked sending to avoid message size limits. See b/62115660.\n",
              "    let position = 0;\n",
              "    do {\n",
              "      const length = Math.min(fileData.byteLength - position, MAX_PAYLOAD_SIZE);\n",
              "      const chunk = new Uint8Array(fileData, position, length);\n",
              "      position += length;\n",
              "\n",
              "      const base64 = btoa(String.fromCharCode.apply(null, chunk));\n",
              "      yield {\n",
              "        response: {\n",
              "          action: 'append',\n",
              "          file: file.name,\n",
              "          data: base64,\n",
              "        },\n",
              "      };\n",
              "\n",
              "      let percentDone = fileData.byteLength === 0 ?\n",
              "          100 :\n",
              "          Math.round((position / fileData.byteLength) * 100);\n",
              "      percent.textContent = `${percentDone}% done`;\n",
              "\n",
              "    } while (position < fileData.byteLength);\n",
              "  }\n",
              "\n",
              "  // All done.\n",
              "  yield {\n",
              "    response: {\n",
              "      action: 'complete',\n",
              "    }\n",
              "  };\n",
              "}\n",
              "\n",
              "scope.google = scope.google || {};\n",
              "scope.google.colab = scope.google.colab || {};\n",
              "scope.google.colab._files = {\n",
              "  _uploadFiles,\n",
              "  _uploadFilesContinue,\n",
              "};\n",
              "})(self);\n",
              "</script> "
            ]
          },
          "metadata": {}
        },
        {
          "output_type": "stream",
          "name": "stdout",
          "text": [
            "Saving trip_stats.csv to trip_stats.csv\n"
          ]
        }
      ]
    },
    {
      "cell_type": "markdown",
      "source": [
        "##B) Load *start_station_probs.csv*"
      ],
      "metadata": {
        "id": "Oe5E3VBzyUjw"
      }
    },
    {
      "cell_type": "code",
      "execution_count": 6,
      "metadata": {
        "colab": {
          "base_uri": "https://localhost:8080/",
          "height": 74
        },
        "id": "KPkxyOvsxwdr",
        "outputId": "495b2bfb-0b96-47a4-eb95-f75615028d44"
      },
      "outputs": [
        {
          "output_type": "display_data",
          "data": {
            "text/plain": [
              "<IPython.core.display.HTML object>"
            ],
            "text/html": [
              "\n",
              "     <input type=\"file\" id=\"files-7af59ace-a33c-4ad4-bc91-081deed31728\" name=\"files[]\" multiple disabled\n",
              "        style=\"border:none\" />\n",
              "     <output id=\"result-7af59ace-a33c-4ad4-bc91-081deed31728\">\n",
              "      Upload widget is only available when the cell has been executed in the\n",
              "      current browser session. Please rerun this cell to enable.\n",
              "      </output>\n",
              "      <script>// Copyright 2017 Google LLC\n",
              "//\n",
              "// Licensed under the Apache License, Version 2.0 (the \"License\");\n",
              "// you may not use this file except in compliance with the License.\n",
              "// You may obtain a copy of the License at\n",
              "//\n",
              "//      http://www.apache.org/licenses/LICENSE-2.0\n",
              "//\n",
              "// Unless required by applicable law or agreed to in writing, software\n",
              "// distributed under the License is distributed on an \"AS IS\" BASIS,\n",
              "// WITHOUT WARRANTIES OR CONDITIONS OF ANY KIND, either express or implied.\n",
              "// See the License for the specific language governing permissions and\n",
              "// limitations under the License.\n",
              "\n",
              "/**\n",
              " * @fileoverview Helpers for google.colab Python module.\n",
              " */\n",
              "(function(scope) {\n",
              "function span(text, styleAttributes = {}) {\n",
              "  const element = document.createElement('span');\n",
              "  element.textContent = text;\n",
              "  for (const key of Object.keys(styleAttributes)) {\n",
              "    element.style[key] = styleAttributes[key];\n",
              "  }\n",
              "  return element;\n",
              "}\n",
              "\n",
              "// Max number of bytes which will be uploaded at a time.\n",
              "const MAX_PAYLOAD_SIZE = 100 * 1024;\n",
              "\n",
              "function _uploadFiles(inputId, outputId) {\n",
              "  const steps = uploadFilesStep(inputId, outputId);\n",
              "  const outputElement = document.getElementById(outputId);\n",
              "  // Cache steps on the outputElement to make it available for the next call\n",
              "  // to uploadFilesContinue from Python.\n",
              "  outputElement.steps = steps;\n",
              "\n",
              "  return _uploadFilesContinue(outputId);\n",
              "}\n",
              "\n",
              "// This is roughly an async generator (not supported in the browser yet),\n",
              "// where there are multiple asynchronous steps and the Python side is going\n",
              "// to poll for completion of each step.\n",
              "// This uses a Promise to block the python side on completion of each step,\n",
              "// then passes the result of the previous step as the input to the next step.\n",
              "function _uploadFilesContinue(outputId) {\n",
              "  const outputElement = document.getElementById(outputId);\n",
              "  const steps = outputElement.steps;\n",
              "\n",
              "  const next = steps.next(outputElement.lastPromiseValue);\n",
              "  return Promise.resolve(next.value.promise).then((value) => {\n",
              "    // Cache the last promise value to make it available to the next\n",
              "    // step of the generator.\n",
              "    outputElement.lastPromiseValue = value;\n",
              "    return next.value.response;\n",
              "  });\n",
              "}\n",
              "\n",
              "/**\n",
              " * Generator function which is called between each async step of the upload\n",
              " * process.\n",
              " * @param {string} inputId Element ID of the input file picker element.\n",
              " * @param {string} outputId Element ID of the output display.\n",
              " * @return {!Iterable<!Object>} Iterable of next steps.\n",
              " */\n",
              "function* uploadFilesStep(inputId, outputId) {\n",
              "  const inputElement = document.getElementById(inputId);\n",
              "  inputElement.disabled = false;\n",
              "\n",
              "  const outputElement = document.getElementById(outputId);\n",
              "  outputElement.innerHTML = '';\n",
              "\n",
              "  const pickedPromise = new Promise((resolve) => {\n",
              "    inputElement.addEventListener('change', (e) => {\n",
              "      resolve(e.target.files);\n",
              "    });\n",
              "  });\n",
              "\n",
              "  const cancel = document.createElement('button');\n",
              "  inputElement.parentElement.appendChild(cancel);\n",
              "  cancel.textContent = 'Cancel upload';\n",
              "  const cancelPromise = new Promise((resolve) => {\n",
              "    cancel.onclick = () => {\n",
              "      resolve(null);\n",
              "    };\n",
              "  });\n",
              "\n",
              "  // Wait for the user to pick the files.\n",
              "  const files = yield {\n",
              "    promise: Promise.race([pickedPromise, cancelPromise]),\n",
              "    response: {\n",
              "      action: 'starting',\n",
              "    }\n",
              "  };\n",
              "\n",
              "  cancel.remove();\n",
              "\n",
              "  // Disable the input element since further picks are not allowed.\n",
              "  inputElement.disabled = true;\n",
              "\n",
              "  if (!files) {\n",
              "    return {\n",
              "      response: {\n",
              "        action: 'complete',\n",
              "      }\n",
              "    };\n",
              "  }\n",
              "\n",
              "  for (const file of files) {\n",
              "    const li = document.createElement('li');\n",
              "    li.append(span(file.name, {fontWeight: 'bold'}));\n",
              "    li.append(span(\n",
              "        `(${file.type || 'n/a'}) - ${file.size} bytes, ` +\n",
              "        `last modified: ${\n",
              "            file.lastModifiedDate ? file.lastModifiedDate.toLocaleDateString() :\n",
              "                                    'n/a'} - `));\n",
              "    const percent = span('0% done');\n",
              "    li.appendChild(percent);\n",
              "\n",
              "    outputElement.appendChild(li);\n",
              "\n",
              "    const fileDataPromise = new Promise((resolve) => {\n",
              "      const reader = new FileReader();\n",
              "      reader.onload = (e) => {\n",
              "        resolve(e.target.result);\n",
              "      };\n",
              "      reader.readAsArrayBuffer(file);\n",
              "    });\n",
              "    // Wait for the data to be ready.\n",
              "    let fileData = yield {\n",
              "      promise: fileDataPromise,\n",
              "      response: {\n",
              "        action: 'continue',\n",
              "      }\n",
              "    };\n",
              "\n",
              "    // Use a chunked sending to avoid message size limits. See b/62115660.\n",
              "    let position = 0;\n",
              "    do {\n",
              "      const length = Math.min(fileData.byteLength - position, MAX_PAYLOAD_SIZE);\n",
              "      const chunk = new Uint8Array(fileData, position, length);\n",
              "      position += length;\n",
              "\n",
              "      const base64 = btoa(String.fromCharCode.apply(null, chunk));\n",
              "      yield {\n",
              "        response: {\n",
              "          action: 'append',\n",
              "          file: file.name,\n",
              "          data: base64,\n",
              "        },\n",
              "      };\n",
              "\n",
              "      let percentDone = fileData.byteLength === 0 ?\n",
              "          100 :\n",
              "          Math.round((position / fileData.byteLength) * 100);\n",
              "      percent.textContent = `${percentDone}% done`;\n",
              "\n",
              "    } while (position < fileData.byteLength);\n",
              "  }\n",
              "\n",
              "  // All done.\n",
              "  yield {\n",
              "    response: {\n",
              "      action: 'complete',\n",
              "    }\n",
              "  };\n",
              "}\n",
              "\n",
              "scope.google = scope.google || {};\n",
              "scope.google.colab = scope.google.colab || {};\n",
              "scope.google.colab._files = {\n",
              "  _uploadFiles,\n",
              "  _uploadFilesContinue,\n",
              "};\n",
              "})(self);\n",
              "</script> "
            ]
          },
          "metadata": {}
        },
        {
          "output_type": "stream",
          "name": "stdout",
          "text": [
            "Saving start_station_probs.csv to start_station_probs.csv\n"
          ]
        }
      ],
      "source": [
        "# The start_station_probs.csv file, which you should use\n",
        "# for the p_i parameter in your simulations.\n",
        "start_station_probs = files.upload()"
      ]
    },
    {
      "cell_type": "markdown",
      "source": [
        "##C) Read data"
      ],
      "metadata": {
        "id": "GENhOqt46My9"
      }
    },
    {
      "cell_type": "code",
      "source": [
        "df1 = pd.read_csv(list(trip_stats.keys())[0])\n",
        "df1_csv = pd.read_csv('trip_stats.csv')\n",
        "df2 = pd.read_csv(list(start_station_probs.keys())[0])\n",
        "df2_csv = pd.read_csv('start_station_probs.csv')"
      ],
      "metadata": {
        "id": "rJBmcEI_y3I0"
      },
      "execution_count": 20,
      "outputs": []
    },
    {
      "cell_type": "code",
      "source": [
        "# trip_stats.csv - Use for q_i,j \n",
        "# (probability of station 'j' selected\n",
        "# as destination from 'i' station)\n",
        "print(df1)"
      ],
      "metadata": {
        "colab": {
          "base_uri": "https://localhost:8080/"
        },
        "id": "vPZwOi10y828",
        "outputId": "17aa2c6e-4124-4c5a-db00-6c93a803df7d"
      },
      "execution_count": 21,
      "outputs": [
        {
          "output_type": "stream",
          "name": "stdout",
          "text": [
            "                      start                                end  count  \\\n",
            "0     11 St & Washington St              11 St & Washington St    142   \n",
            "1     11 St & Washington St               12 St & Sinatra Dr N     44   \n",
            "2     11 St & Washington St  14 St Ferry - 14 St & Shipyard Ln     48   \n",
            "3     11 St & Washington St                    4 St & Grand St     47   \n",
            "4     11 St & Washington St                    6 St & Grand St     25   \n",
            "...                     ...                                ...    ...   \n",
            "5141     Willow Ave & 12 St         Stevens - River Ter & 6 St     23   \n",
            "5142     Willow Ave & 12 St           Vesey Pl & River Terrace      1   \n",
            "5143     Willow Ave & 12 St                          Warren St      7   \n",
            "5144     Willow Ave & 12 St                      Washington St     11   \n",
            "5145     Willow Ave & 12 St                 Willow Ave & 12 St     50   \n",
            "\n",
            "           mean         std  \n",
            "0     25.929108   39.186350  \n",
            "1     56.655303  149.709313  \n",
            "2     12.481597   16.335279  \n",
            "3      7.348582    2.465807  \n",
            "4      5.890000    1.983590  \n",
            "...         ...         ...  \n",
            "5141   8.784783    2.983604  \n",
            "5142  16.250000         NaN  \n",
            "5143  26.807143    5.739514  \n",
            "5144  35.895455   29.392104  \n",
            "5145  13.220667   18.247003  \n",
            "\n",
            "[5146 rows x 5 columns]\n"
          ]
        }
      ]
    },
    {
      "cell_type": "code",
      "source": [
        "# start_station_porbs.csv - Use for p_i\n",
        "# (probability of station 'i' selected\n",
        "# as starting station) \n",
        "print(df2_csv)"
      ],
      "metadata": {
        "colab": {
          "base_uri": "https://localhost:8080/"
        },
        "id": "rWvpQIAay925",
        "outputId": "007e1ebf-fc02-4b68-9ef6-02f9239f5097"
      },
      "execution_count": 22,
      "outputs": [
        {
          "output_type": "stream",
          "name": "stdout",
          "text": [
            "                              start_station_name  probability\n",
            "0   South Waterfront Walkway - Sinatra Dr & 1 St     0.044679\n",
            "1                                  Grove St PATH     0.043504\n",
            "2       Hoboken Terminal - Hudson St & Hudson Pl     0.033629\n",
            "3        Hoboken Terminal - River St & Hudson Pl     0.029832\n",
            "4                                   Newport Pkwy     0.027035\n",
            "..                                           ...          ...\n",
            "76                                        Dey St     0.002670\n",
            "77                                Jackson Square     0.001816\n",
            "78                       Bergen Ave & Stegman St     0.001457\n",
            "79                            Grant Ave & MLK Dr     0.000689\n",
            "80                                    JCBS Depot     0.000010\n",
            "\n",
            "[81 rows x 2 columns]\n"
          ]
        }
      ]
    },
    {
      "cell_type": "markdown",
      "source": [
        "# Initial Setup"
      ],
      "metadata": {
        "id": "HGiBtSOl6pxK"
      }
    },
    {
      "cell_type": "markdown",
      "source": [
        "## A) Set $p_{i}$\n",
        "Starting-station probabilities\n",
        "```\n",
        "df2_csv \n",
        "# it will hold the probability of 'start' station.\n",
        "```"
      ],
      "metadata": {
        "id": "rGY8mEg463Af"
      }
    },
    {
      "cell_type": "markdown",
      "source": [
        "## B) Set $p_{i,j}$\n",
        "End station probabilities from start station\n",
        "```\n",
        "prob_ij[] \n",
        "# each row has ['start', 'end', 'probability']\n",
        "```\n",
        "\n",
        "\n",
        "- The probability of selecting station $j$, given that the rider is at station $i$, is given by $q_{i,j}$. It is possible that $i = j$, that is, the rider uses the bike but ends up returning it to the same station."
      ],
      "metadata": {
        "id": "wzxJNJVR6637"
      }
    },
    {
      "cell_type": "markdown",
      "source": [
        "`start_counts ` will hold the total counts of each 'start' station value. "
      ],
      "metadata": {
        "id": "nYa0sVMu6_OY"
      }
    },
    {
      "cell_type": "code",
      "source": [
        "# Calculate the total counts of each \"start\" value\n",
        "start_counts = df1_csv.groupby(\"start\")[\"count\"].sum()\n",
        "print(start_counts)"
      ],
      "metadata": {
        "colab": {
          "base_uri": "https://localhost:8080/"
        },
        "id": "VVaLOCwB7JLG",
        "outputId": "7e6698ca-3d98-49f5-f92f-1c5e47b4976e"
      },
      "execution_count": 23,
      "outputs": [
        {
          "output_type": "stream",
          "name": "stdout",
          "text": [
            "start\n",
            "11 St & Washington St                1817\n",
            "12 St & Sinatra Dr N                 2515\n",
            "14 St Ferry - 14 St & Shipyard Ln    2226\n",
            "4 St & Grand St                      1143\n",
            "5 Corners Library                     372\n",
            "                                     ... \n",
            "Union St                              281\n",
            "Van Vorst Park                       1294\n",
            "Warren St                            1504\n",
            "Washington St                        1778\n",
            "Willow Ave & 12 St                   1029\n",
            "Name: count, Length: 81, dtype: int64\n"
          ]
        }
      ]
    },
    {
      "cell_type": "markdown",
      "source": [
        "\n",
        "\n",
        "> * First, merge the data from the additional CSV file with the original one. Next, calculate the probability of $p_{start, end}$ by dividing the total counts of the 'start' station by the count of the 'end' station.\n",
        "* `prob_ij` will hold the `[start, end, probabiltiy]` in each row.\n",
        "\n"
      ],
      "metadata": {
        "id": "jlDw4Es07Xrt"
      }
    },
    {
      "cell_type": "code",
      "source": [
        "# Merge the total counts with the original CSV file\n",
        "merged_df = pd.merge(df1_csv, start_counts, on=\"start\", suffixes=(\"\", \"_total\"))\n",
        "\n",
        "# Calculate the conditional probabilities of each \"end\" value given each \"start\" value\n",
        "merged_df[\"probability\"] = merged_df[\"count\"] / merged_df[\"count_total\"]\n",
        "\n",
        "# Select the \"start\", \"end\", and \"probability\" columns\n",
        "prob_ij = merged_df[[\"start\", \"end\", \"probability\"]]\n",
        "\n",
        "# Print the resulting DataFrame\n",
        "print(prob_ij)"
      ],
      "metadata": {
        "colab": {
          "base_uri": "https://localhost:8080/"
        },
        "id": "pF-u_wkd7vZH",
        "outputId": "a19dcc22-d779-44b0-d91b-2b02ebb16452"
      },
      "execution_count": 24,
      "outputs": [
        {
          "output_type": "stream",
          "name": "stdout",
          "text": [
            "                      start                                end  probability\n",
            "0     11 St & Washington St              11 St & Washington St     0.078151\n",
            "1     11 St & Washington St               12 St & Sinatra Dr N     0.024216\n",
            "2     11 St & Washington St  14 St Ferry - 14 St & Shipyard Ln     0.026417\n",
            "3     11 St & Washington St                    4 St & Grand St     0.025867\n",
            "4     11 St & Washington St                    6 St & Grand St     0.013759\n",
            "...                     ...                                ...          ...\n",
            "5141     Willow Ave & 12 St         Stevens - River Ter & 6 St     0.022352\n",
            "5142     Willow Ave & 12 St           Vesey Pl & River Terrace     0.000972\n",
            "5143     Willow Ave & 12 St                          Warren St     0.006803\n",
            "5144     Willow Ave & 12 St                      Washington St     0.010690\n",
            "5145     Willow Ave & 12 St                 Willow Ave & 12 St     0.048591\n",
            "\n",
            "[5146 rows x 3 columns]\n"
          ]
        }
      ]
    },
    {
      "cell_type": "markdown",
      "source": [
        "# Simulation"
      ],
      "metadata": {
        "id": "OgAJF1UkPEhW"
      }
    },
    {
      "cell_type": "markdown",
      "source": [
        "## Simulation Description\n",
        "\n",
        "*   Model one logical-day (24 logical-hours) of simulation time.\n",
        "\n",
        "*   There are some number of stations, m. Each station is modeled, conceptually, as an elementary queue.\n",
        "*   On a given day, suppose there are n riders in total.\n",
        "*   The n riders arrive randomly. Their interarrival times constitute an autonomous, stationary, and independent stochastic process, distributed exponentially with mean rate $λ$.\n",
        "*   When a rider arrives, she selects a bike station randomly. The probability of picking station $i$ is $p_i$.\n",
        "*   The rider goes to station $i$. If a bike is available, she takes it. Otherwise, she must wait until a bike is available there. Allow for the possibility of an unlimited number of bikes at the station, which will be needed by one of the experiments below.\n",
        "*   The rider chooses their destination randomly. The probability of selecting station $j$, given that the rider is at station $i$, is given by $q_{i,j}$. It is possible that $i = j$, that is, the rider uses the bike but ends up returning it to the same station.\n",
        "*   The rider uses the bike for some amount of time before returning it. The amount of time she uses the bike is drawn from a log- normal distribution with mean μ and standard deviation $σ$.\n",
        "*  After returning her bike, the rider leaves the system."
      ],
      "metadata": {
        "id": "oTh6Z0WePHUi"
      }
    },
    {
      "cell_type": "markdown",
      "source": [
        "## A Baseline Experiment\n",
        "> Suppose the number of riders $n = 3,500$ and through the simulation we will estimate the following:\n",
        "\n",
        "1. the “probability of a successful rental,” that is, the fraction of riders who are able to get a bike;\n",
        "2. a rider’s average waiting-time for a bike, considering only riders who successfully got a bike.\n"
      ],
      "metadata": {
        "id": "OKpRzuTvPLYZ"
      }
    },
    {
      "cell_type": "markdown",
      "source": [
        "Compute a $90%$ confidence interval for your estimates. For the simulation parameters, use the following:\n",
        "\n",
        ">• For the system-wide interarrival times, which are exponentially distributed, use $λ = 2.38$ riders per minute.\n",
        "\n",
        ">• For the ride times, which are log-normally distributed, use $μ = 2.78$ and $σ = 0.619$. (This value corresponds with an average ride- time of $e^μ ≈ 16$ minutes.)\n",
        "\n",
        ">• The $p_i$ values are given in the data file, **start_station_probs.csv**.\n",
        "\n",
        ">• To derive $q_{i,j}$ values, use the raw data of **trip_stats.csv**."
      ],
      "metadata": {
        "id": "sPSYXTC0Pcbn"
      }
    },
    {
      "cell_type": "markdown",
      "source": [
        "## Code"
      ],
      "metadata": {
        "id": "UiyIZBtAP1Ss"
      }
    },
    {
      "cell_type": "code",
      "source": [
        "import numpy as np\n",
        "import pandas as pd\n",
        "from collections import deque\n",
        "\n",
        "def sim():\n",
        "    # Rider class\n",
        "    # start_station: Rider's starting station name\n",
        "    # end_station: Rider's ending station name\n",
        "    # arrival_time: Rider's using bike for some amount of time before returning\n",
        "    class Rider:\n",
        "        def __init__(self, start_station, end_station, ride_time, arrival_time):\n",
        "            self.start_station = start_station\n",
        "            self.end_station = end_station\n",
        "            self.ride_time = ride_time\n",
        "            self.arrival_time = arrival_time\n",
        "\n",
        "    # Parameters\n",
        "    m = len(df2_csv)\n",
        "    n = 3500\n",
        "    lmbda = 2.38\n",
        "    mu = 2.78\n",
        "    sigma = 0.619\n",
        "    bikes_per_station = 10\n",
        "\n",
        "    # Initialize simulation\n",
        "    np.random.seed()\n",
        "    # stations: it will hold the number of bikes in each stations that existed in df2_csv.\n",
        "    stations = {station: bikes_per_station for station in df2_csv['start_station_name']}\n",
        "    # waiting_times: it will hold the individual waiting times.\n",
        "    waiting_times = []\n",
        "    successful_rentals = 0\n",
        "\n",
        "    # Simulation loop\n",
        "    current_time = 0\n",
        "    riders = []\n",
        "    # waiting_riders: it will hold the 'start_station' as a key and 'current_time' as a value.\n",
        "    # then it can access the starting waiting time to calculate waiting time.\n",
        "    waiting_riders = {station: deque() for station in df2_csv['start_station_name']}\n",
        "    while current_time < 24 * 60:  # 24 hours in minutes\n",
        "        # Generate interarrival time and ride time\n",
        "        interarrival_time = np.random.exponential(1 / lmbda)\n",
        "        ride_time = np.random.lognormal(mu, sigma)\n",
        "\n",
        "        current_time += interarrival_time\n",
        "        if current_time >= 24 * 60:\n",
        "            break\n",
        "\n",
        "        # Select a station and destination\n",
        "        start_station = np.random.choice(df2_csv['start_station_name'], p=df2_csv['probability'])\n",
        "        end_station = np.random.choice(prob_ij.loc[prob_ij['start'] == start_station]['end'],\n",
        "                                        p=prob_ij.loc[prob_ij['start'] == start_station]['probability'])\n",
        "\n",
        "        # Rent a bike\n",
        "        if stations[start_station] > 0:\n",
        "            successful_rentals += 1\n",
        "            stations[start_station] -= 1\n",
        "            rider = Rider(start_station, end_station, ride_time, current_time)\n",
        "            riders.append(rider)\n",
        "        else:\n",
        "            # If there is no available bike,\n",
        "            # need to append to waiting_riders deque() with current time \n",
        "            # to track a waiting time.\n",
        "            waiting_riders[start_station].append(current_time)\n",
        "\n",
        "        # Check for returning bikes\n",
        "        for r in riders:\n",
        "            r.ride_time -= interarrival_time\n",
        "            # If rider is time to return a bike to his/her own end_destination.\n",
        "            if r.ride_time <= 0:\n",
        "                # Increment bikes only when the destination is in our system.\n",
        "                if r.end_station in stations:\n",
        "                    stations[r.end_station] += 1\n",
        "                riders.remove(r)\n",
        "\n",
        "                # Assign a bike to a waiting rider\n",
        "                if r.end_station in stations and len(waiting_riders[r.end_station]) > 0:\n",
        "                    # Track a waiting time \n",
        "                    waiting_time = current_time - waiting_riders[r.end_station].popleft()\n",
        "                    waiting_times.append(waiting_time)\n",
        "\n",
        "    # Calculate the results\n",
        "    probability_successful_rental = successful_rentals / n\n",
        "    avg_waiting_time = np.mean(waiting_times)\n",
        "    return probability_successful_rental, avg_waiting_time"
      ],
      "metadata": {
        "id": "hu-Fup-4PDXm"
      },
      "execution_count": 25,
      "outputs": []
    },
    {
      "cell_type": "markdown",
      "source": [
        "### A) One-time simulation"
      ],
      "metadata": {
        "id": "EdTMbv3rQaD8"
      }
    },
    {
      "cell_type": "code",
      "source": [
        "def one_sim():\n",
        "    probability_successful_rental, avg_waiting_time = sim()\n",
        "    print(f\"Probability of successful rental: {probability_successful_rental}\")\n",
        "    print(f\"Average waiting time for a bike: {avg_waiting_time}\")\n",
        "one_sim()"
      ],
      "metadata": {
        "colab": {
          "base_uri": "https://localhost:8080/"
        },
        "id": "JU40i2ccQVr8",
        "outputId": "f65570ce-9384-4988-9b06-6a3705acc196"
      },
      "execution_count": 26,
      "outputs": [
        {
          "output_type": "stream",
          "name": "stdout",
          "text": [
            "Probability of successful rental: 0.9285714285714286\n",
            "Average waiting time for a bike: 77.27988910989167\n"
          ]
        }
      ]
    },
    {
      "cell_type": "markdown",
      "source": [
        "###B) 10-times simulation"
      ],
      "metadata": {
        "id": "z3UbeR4FQhgl"
      }
    },
    {
      "cell_type": "code",
      "source": [
        "def multi_sim():\n",
        "    # Run the simulation multiple times\n",
        "    n_runs = 10\n",
        "    estimations = [sim() for _ in range(n_runs)]\n",
        "    prob_successful_rental, avg_waiting_time = zip(*estimations)\n",
        "    conf_interval_prob = np.percentile(prob_successful_rental, [5, 95])\n",
        "    conf_interval_waiting_time = np.percentile(avg_waiting_time, [5, 95])\n",
        "    print(f\"90% confidence interval for probability of successful rental: {conf_interval_prob}\")\n",
        "    print(f\"90% confidence interval for average waiting time: {conf_interval_waiting_time}\")\n",
        "multi_sim()"
      ],
      "metadata": {
        "colab": {
          "base_uri": "https://localhost:8080/"
        },
        "id": "RRHmdkLlQlaF",
        "outputId": "ba267896-67af-48d6-cb02-16a012a69964"
      },
      "execution_count": 29,
      "outputs": [
        {
          "output_type": "stream",
          "name": "stdout",
          "text": [
            "90% confidence interval for probability of successful rental: [0.91364286 0.95538571]\n",
            "90% confidence interval for average waiting time: [44.84401602 78.5001424 ]\n"
          ]
        }
      ]
    },
    {
      "cell_type": "markdown",
      "source": [
        "## Code Explanation"
      ],
      "metadata": {
        "id": "Uj-kCWa5QGZp"
      }
    },
    {
      "cell_type": "markdown",
      "source": [
        "\n",
        "If there are avaialbe bikes in the `start_station`, rider doesn't need to wait. Also, create `Rider` object that will ride certain amount of time, `ride_time`, from `current_time`.\n",
        "```python\n",
        "#Rent a bike\n",
        "if stations[start_station] > 0:\n",
        "    successful_rentals += 1\n",
        "    stations[start_station] -= 1\n",
        "    rider = Rider(start_station, end_station, ride_time, current_time)\n",
        "    riders.append(rider)\n",
        "```\n",
        "If there is no avaiable bike in the `start_station`. Rider should wait for the other Riders who will return after their `ride_time`.\n",
        "\n",
        "`waiting_riders` will hold `start_station` as a key and `current_time` as values. Therefore, we can calculate the waiting time by `current_time - waiting_riders[#start_station]`.\n",
        "\n",
        "```python\n",
        "else:\n",
        "    # If there is no available bike,\n",
        "    # need to append to waiting_riders deque() with current time \n",
        "    # to track a waiting time.\n",
        "    waiting_riders[start_station].append(current_time)\n",
        "```\n",
        "If `Rider` is time to return the bike and `end_station` is in our system, the number of bikes will be incremented.\n",
        "\n",
        "```python\n",
        "# Check for returning bikes\n",
        "for r in riders:\n",
        "    r.ride_time -= interarrival_time\n",
        "    # If rider is time to return a bike to his/her own end_destination.\n",
        "    if r.ride_time <= 0:\n",
        "        # Increment bikes only when the destination is in our system.\n",
        "        if r.end_station in stations:\n",
        "            stations[r.end_station] += 1\n",
        "        riders.remove(r)\n",
        "```\n",
        "Then, we calculate the waiting time of `Rider` was in `waiting_riders` queue. \n",
        "```python\n",
        "        # Assign a bike to a waiting rider\n",
        "        if r.end_station in stations and len(waiting_riders[r.end_station]) > 0:\n",
        "            # Track a waiting time \n",
        "            waiting_time = current_time - waiting_riders[r.end_station].popleft()\n",
        "            waiting_times.append(waiting_time)\n",
        "```"
      ],
      "metadata": {
        "id": "iOMsJuGxQP0-"
      }
    }
  ]
}